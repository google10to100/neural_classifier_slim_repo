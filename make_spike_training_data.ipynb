{
 "cells": [
  {
   "cell_type": "code",
   "execution_count": 2,
   "metadata": {},
   "outputs": [
    {
     "ename": "ImportError",
     "evalue": "libX11.so.6: cannot open shared object file: No such file or directory",
     "output_type": "error",
     "traceback": [
      "\u001b[0;31m---------------------------------------------------------------------------\u001b[0m",
      "\u001b[0;31mImportError\u001b[0m                               Traceback (most recent call last)",
      "Cell \u001b[0;32mIn [2], line 6\u001b[0m\n\u001b[1;32m      4\u001b[0m \u001b[38;5;66;03m# import tkinter\u001b[39;00m\n\u001b[1;32m      5\u001b[0m \u001b[38;5;28;01mimport\u001b[39;00m \u001b[38;5;21;01mmy_utilities\u001b[39;00m \u001b[38;5;28;01mas\u001b[39;00m \u001b[38;5;21;01mmu\u001b[39;00m\n\u001b[0;32m----> 6\u001b[0m \u001b[38;5;28;01mfrom\u001b[39;00m \u001b[38;5;21;01mspike_manipulator\u001b[39;00m \u001b[38;5;28;01mimport\u001b[39;00m Spikes\n\u001b[1;32m      8\u001b[0m \u001b[38;5;66;03m# Controls\u001b[39;00m\n\u001b[1;32m      9\u001b[0m ei          \u001b[38;5;241m=\u001b[39m \u001b[38;5;241m3\u001b[39m                     \u001b[38;5;66;03m# electrode index\u001b[39;00m\n",
      "File \u001b[0;32m~/work/spike_manipulator.py:4\u001b[0m\n\u001b[1;32m      2\u001b[0m \u001b[38;5;28;01mimport\u001b[39;00m \u001b[38;5;21;01mmatplotlib\u001b[39;00m\u001b[38;5;21;01m.\u001b[39;00m\u001b[38;5;21;01mpyplot\u001b[39;00m \u001b[38;5;28;01mas\u001b[39;00m \u001b[38;5;21;01mplt\u001b[39;00m\n\u001b[1;32m      3\u001b[0m \u001b[38;5;28;01mfrom\u001b[39;00m \u001b[38;5;21;01mscipy\u001b[39;00m \u001b[38;5;28;01mimport\u001b[39;00m signal\n\u001b[0;32m----> 4\u001b[0m \u001b[38;5;28;01mimport\u001b[39;00m \u001b[38;5;21;01mtkinter\u001b[39;00m\n\u001b[1;32m      7\u001b[0m \u001b[38;5;28;01mclass\u001b[39;00m \u001b[38;5;21;01mSpikes\u001b[39;00m:\n\u001b[1;32m      8\u001b[0m     \u001b[38;5;124;03m'''For a given set of raw time series, Spikes is a 3D array container for neural spikes at all electrodes'''\u001b[39;00m\n",
      "File \u001b[0;32m/opt/conda/lib/python3.10/tkinter/__init__.py:37\u001b[0m\n\u001b[1;32m     34\u001b[0m \u001b[38;5;28;01mimport\u001b[39;00m \u001b[38;5;21;01msys\u001b[39;00m\n\u001b[1;32m     35\u001b[0m \u001b[38;5;28;01mimport\u001b[39;00m \u001b[38;5;21;01mtypes\u001b[39;00m\n\u001b[0;32m---> 37\u001b[0m \u001b[38;5;28;01mimport\u001b[39;00m \u001b[38;5;21;01m_tkinter\u001b[39;00m \u001b[38;5;66;03m# If this fails your Python may not be configured for Tk\u001b[39;00m\n\u001b[1;32m     38\u001b[0m TclError \u001b[38;5;241m=\u001b[39m _tkinter\u001b[38;5;241m.\u001b[39mTclError\n\u001b[1;32m     39\u001b[0m \u001b[38;5;28;01mfrom\u001b[39;00m \u001b[38;5;21;01mtkinter\u001b[39;00m\u001b[38;5;21;01m.\u001b[39;00m\u001b[38;5;21;01mconstants\u001b[39;00m \u001b[38;5;28;01mimport\u001b[39;00m \u001b[38;5;241m*\u001b[39m\n",
      "\u001b[0;31mImportError\u001b[0m: libX11.so.6: cannot open shared object file: No such file or directory"
     ]
    }
   ],
   "source": [
    "import numpy as np\n",
    "from scipy import signal\n",
    "import matplotlib.pyplot as plt\n",
    "# import tkinter\n",
    "import my_utilities as mu\n",
    "from spike_manipulator import Spikes\n",
    "\n",
    "# Controls\n",
    "ei          = 3                     # electrode index\n",
    "norm_spks   = 1                     # normalize spikes? 0='no', 1='yes'\n",
    "fnums       = [4, 7, 11, 8]         # file number to load\n",
    "# fnums       = [1, 3]              # file number to load\n",
    "norm_len    = 199                   # normalized spike lengths\n",
    "stim_mode   = \"all\"                 # stimulus edge used to keep neural signals = \"rise\", \"fall\", or \"all\"\n",
    "save_dat    = 1\n",
    "\n",
    "# Constants\n",
    "dat_dir     = 'Data/Raw/'           # directory where .mat neural data files are located\n",
    "sig_colors  = ['g', 'b', 'y', 'r', 'm']\n",
    "\n",
    "# main\n",
    "num_files = len(fnums)\n",
    "X_good = []\n",
    "X = []\n",
    "y = []\n",
    "\n",
    "for fnum in fnums:\n",
    "    raw, fname = mu.load_raw(dat_dir, fnum, 0)\n",
    "    spks = Spikes(raw, stim_mode, 0)\n",
    "    spks_good = spks.to_good_spikes(ei)\n",
    "    spks_norm = spks.normalize(spks_good, norm_len)\n",
    "    # spks_norm = spks_good[:100,:]\n",
    "    spks_len = spks.spks_len\n",
    "    n_spks = spks.num_good_spks\n",
    "\n",
    "    ones_arr = np.ones(n_spks).astype('int')\n",
    "    labels = mu.get_label(fname) * ones_arr\n",
    "\n",
    "    if fnum == fnums[0]:\n",
    "        X_good = np.array(spks_good)\n",
    "        X = np.array(spks_norm)\n",
    "        y = labels\n",
    "    else:\n",
    "        X_good = np.append(X_good, spks_good, axis=1)\n",
    "        X = np.append(X, spks_norm, axis=1)\n",
    "        y = np.append(y, labels)\n",
    "    \n",
    "    print(f'{fname} has {n_spks} good spikes with length of {spks_len}')\n",
    "\n",
    "print(X.shape)\n",
    "print(y.shape)\n",
    "\n",
    "# plotting\n",
    "lb_indexes = y==0\n",
    "rb_indexes = y==1\n",
    "\n",
    "# plot spikes (not normalized)\n",
    "plt.figure()\n",
    "plt.plot(X_good[:, lb_indexes][:, 0], 'b', label='Left bound')\n",
    "plt.plot(X_good[:, rb_indexes][:, 0], 'r', label='Right bound')\n",
    "\n",
    "plt.plot(X_good[:, lb_indexes][:, 1:], 'b')\n",
    "plt.plot(X_good[:, rb_indexes][:, 1:], 'r')\n",
    "\n",
    "plt.legend(loc='lower right')\n",
    "plt.title(f'Full Spikes for Electrode {ei} for {fnums}')\n",
    "\n",
    "# plot normalized spikes\n",
    "plt.figure()\n",
    "plt.plot(X[:, lb_indexes][:, 0], 'b', label='Left bound')\n",
    "plt.plot(X[:, rb_indexes][:, 0], 'r', label='Right bound')\n",
    "\n",
    "plt.plot(X[:, lb_indexes][:, 1:], 'b')\n",
    "plt.plot(X[:, rb_indexes][:, 1:], 'r')\n",
    "\n",
    "plt.legend(loc='lower right')\n",
    "plt.title(f'Normalized Spikes for Electrode {ei} for {fnums}')\n",
    "\n",
    "\n",
    "plt.figure()\n",
    "plt.plot(y[lb_indexes], '.')\n",
    "\n",
    "# # plotting\n",
    "# plt.figure()\n",
    "# plt.plot(X, 'k')\n",
    "# plt.title(f'Electrode {ei} for {fnums}')\n",
    "# plt.figure()\n",
    "# plt.plot(y, '.')\n",
    "\n",
    "if save_dat:\n",
    "    X = X.T\n",
    "    np.save('XX2', X)\n",
    "    np.save('yy2', y)\n",
    "    np.save('zz2', [[], X.shape[0], X.shape[1]])\n",
    "\n"
   ]
  },
  {
   "cell_type": "code",
   "execution_count": 72,
   "metadata": {},
   "outputs": [
    {
     "name": "stdout",
     "output_type": "stream",
     "text": [
      "(1042, 199)\n",
      "(1042,)\n",
      "[[ 0.10141431  0.09580046  0.09018661 ... -0.02847821 -0.02847821\n",
      "  -0.02847821]\n",
      " [-0.02091009 -0.02887729 -0.0368445  ... -0.05918321 -0.05918321\n",
      "  -0.05918321]\n",
      " [ 0.07717978  0.07389504  0.07061029 ...  0.02765844  0.02765844\n",
      "   0.02765844]\n",
      " ...\n",
      " [ 0.46459765  0.4553485   0.44609936 ...  0.09930752  0.09930752\n",
      "   0.09930752]\n",
      " [ 0.33823331  0.32808763  0.31794195 ... -0.09632369 -0.09632369\n",
      "  -0.09632369]\n",
      " [ 0.42061223  0.40888812  0.39716401 ...  0.04773288  0.04773288\n",
      "   0.04773288]]\n",
      "[1 1 1 ... 0 0 0]\n"
     ]
    }
   ],
   "source": [
    "print(X.shape)\n",
    "print(y.shape)\n",
    "print(X)\n",
    "print(y)\n"
   ]
  },
  {
   "cell_type": "code",
   "execution_count": 73,
   "metadata": {},
   "outputs": [
    {
     "data": {
      "text/plain": [
       "[[], 1042, 199]"
      ]
     },
     "execution_count": 73,
     "metadata": {},
     "output_type": "execute_result"
    }
   ],
   "source": [
    "[[], X.shape[0], X.shape[1]]"
   ]
  },
  {
   "cell_type": "code",
   "execution_count": 74,
   "metadata": {},
   "outputs": [
    {
     "data": {
      "text/plain": [
       "array([ 0.10141431,  0.09580046,  0.09018661,  0.08165657,  0.07239747,\n",
       "        0.06609854,  0.06177306,  0.06345715,  0.07415561,  0.08746691,\n",
       "        0.11122961,  0.13499231,  0.15896515,  0.18293799,  0.19940571,\n",
       "        0.21399715,  0.22092446,  0.22274235,  0.22081338,  0.2132641 ,\n",
       "        0.20521851,  0.19518762,  0.18515673,  0.1781453 ,  0.17113386,\n",
       "        0.16648716,  0.16243163,  0.15791303,  0.15308571,  0.14870418,\n",
       "        0.14499135,  0.14248091,  0.14478007,  0.14707922,  0.15362213,\n",
       "        0.16016504,  0.16532927,  0.17014884,  0.1717088 ,  0.17109571,\n",
       "        0.16915012,  0.16520578,  0.1618109 ,  0.16061385,  0.1594168 ,\n",
       "        0.16153616,  0.16365553,  0.16350221,  0.16278073,  0.15913234,\n",
       "        0.15353268,  0.14783352,  0.14198511,  0.13526176,  0.12503868,\n",
       "        0.1148156 ,  0.09038793,  0.06596027,  0.02984153, -0.00919999,\n",
       "       -0.05197245, -0.09723223, -0.14254317, -0.18793086, -0.23347891,\n",
       "       -0.27966835, -0.32585779, -0.37490485, -0.4239519 , -0.47341801,\n",
       "       -0.52298887, -0.56922033, -0.61322551, -0.65294484, -0.6862354 ,\n",
       "       -0.71597949, -0.73153772, -0.74709594, -0.74544465, -0.74379335,\n",
       "       -0.73093721, -0.71527986, -0.69084617, -0.66056159, -0.62673501,\n",
       "       -0.58759542, -0.54822472, -0.5079296 , -0.46763448, -0.42888962,\n",
       "       -0.39014476, -0.35447157, -0.31956629, -0.2885776 , -0.26019996,\n",
       "       -0.23180393, -0.20338034, -0.1734765 , -0.1376517 , -0.10182689,\n",
       "       -0.06127501, -0.02072313,  0.01735579,  0.05481648,  0.08730256,\n",
       "        0.11647225,  0.14119649,  0.15925258,  0.17542753,  0.18407793,\n",
       "        0.19272833,  0.19740489,  0.20208145,  0.20599023,  0.20970706,\n",
       "        0.21450074,  0.22001231,  0.22597998,  0.23263179,  0.23896123,\n",
       "        0.24400121,  0.24904118,  0.25097262,  0.25290406,  0.25107826,\n",
       "        0.24831315,  0.24339894,  0.23705199,  0.23160045,  0.227492  ,\n",
       "        0.22409334,  0.22353382,  0.2229743 ,  0.22185481,  0.22073531,\n",
       "        0.21809129,  0.21506614,  0.21127221,  0.20696574,  0.20191881,\n",
       "        0.19576116,  0.1896688 ,  0.18383762,  0.17800644,  0.17399882,\n",
       "        0.1699912 ,  0.16171138,  0.15236351,  0.1388736 ,  0.12262232,\n",
       "        0.10589652,  0.08845895,  0.07142016,  0.0559765 ,  0.04053283,\n",
       "        0.03169875,  0.02286466,  0.02364216,  0.02682256,  0.0345082 ,\n",
       "        0.04519733,  0.05447821,  0.06164669,  0.06685978,  0.06425131,\n",
       "        0.06164284,  0.05175303,  0.04186323,  0.03249505,  0.02325728,\n",
       "        0.01661188,  0.01169473,  0.0082675 ,  0.00707516,  0.00618114,\n",
       "        0.00648043,  0.00677972,  0.00831596,  0.0098522 ,  0.01202368,\n",
       "        0.01435398,  0.01820366,  0.02306628,  0.02949674,  0.03827896,\n",
       "        0.04643601,  0.05209243,  0.05774884,  0.05394281,  0.05013678,\n",
       "        0.04109086,  0.03073496,  0.01941555,  0.0074538 , -0.00495142,\n",
       "       -0.01802186, -0.02847821, -0.02847821, -0.02847821])"
      ]
     },
     "execution_count": 74,
     "metadata": {},
     "output_type": "execute_result"
    }
   ],
   "source": [
    "X[0]"
   ]
  },
  {
   "cell_type": "code",
   "execution_count": 75,
   "metadata": {},
   "outputs": [
    {
     "data": {
      "text/plain": [
       "array([[1, 2, 3],\n",
       "       [4, 5, 6]])"
      ]
     },
     "execution_count": 75,
     "metadata": {},
     "output_type": "execute_result"
    }
   ],
   "source": [
    "a = np.array([[1,2,3],[4,5,6]])\n",
    "a"
   ]
  },
  {
   "cell_type": "code",
   "execution_count": 76,
   "metadata": {},
   "outputs": [
    {
     "data": {
      "text/plain": [
       "array([1, 2, 3])"
      ]
     },
     "execution_count": 76,
     "metadata": {},
     "output_type": "execute_result"
    }
   ],
   "source": [
    "a[0]"
   ]
  },
  {
   "cell_type": "code",
   "execution_count": 77,
   "metadata": {},
   "outputs": [
    {
     "name": "stdout",
     "output_type": "stream",
     "text": [
      "[[ 0.10141431  0.09580046  0.09018661 ... -0.02847821 -0.02847821\n",
      "  -0.02847821]\n",
      " [-0.02091009 -0.02887729 -0.0368445  ... -0.05918321 -0.05918321\n",
      "  -0.05918321]\n",
      " [ 0.07717978  0.07389504  0.07061029 ...  0.02765844  0.02765844\n",
      "   0.02765844]\n",
      " ...\n",
      " [ 0.04723888  0.03638202  0.02552516 ... -0.00089758 -0.00089758\n",
      "  -0.00089758]\n",
      " [ 0.05100848  0.04645712  0.04190577 ...  0.08401661  0.08401661\n",
      "   0.08401661]\n",
      " [ 0.06796991  0.07046407  0.07295824 ...  0.06594861  0.06594861\n",
      "   0.06594861]]\n"
     ]
    }
   ],
   "source": [
    "z = y==1\n",
    "# print(z)\n",
    "print(X[z])"
   ]
  }
 ],
 "metadata": {
  "kernelspec": {
   "display_name": "Python 3 (ipykernel)",
   "language": "python",
   "name": "python3"
  },
  "language_info": {
   "codemirror_mode": {
    "name": "ipython",
    "version": 3
   },
   "file_extension": ".py",
   "mimetype": "text/x-python",
   "name": "python",
   "nbconvert_exporter": "python",
   "pygments_lexer": "ipython3",
   "version": "3.10.8"
  },
  "vscode": {
   "interpreter": {
    "hash": "5673f2036e229049fe26110f48d0d35fbf8c2dca43c28c5188c0d8642de42f46"
   }
  }
 },
 "nbformat": 4,
 "nbformat_minor": 4
}
